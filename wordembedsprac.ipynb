{
  "nbformat": 4,
  "nbformat_minor": 0,
  "metadata": {
    "colab": {
      "name": "Untitled4.ipynb",
      "version": "0.3.2",
      "provenance": [],
      "include_colab_link": true
    },
    "kernelspec": {
      "name": "python3",
      "display_name": "Python 3"
    }
  },
  "cells": [
    {
      "cell_type": "markdown",
      "metadata": {
        "id": "view-in-github",
        "colab_type": "text"
      },
      "source": [
        "<a href=\"https://colab.research.google.com/github/karanpraharaj/Practice/blob/master/wordembedsprac.ipynb\" target=\"_parent\"><img src=\"https://colab.research.google.com/assets/colab-badge.svg\" alt=\"Open In Colab\"/></a>"
      ]
    },
    {
      "cell_type": "markdown",
      "metadata": {
        "id": "pzNKnmmiRZHR",
        "colab_type": "text"
      },
      "source": [
        "# **N-GRAM LANGUAGE MODEL** "
      ]
    },
    {
      "cell_type": "code",
      "metadata": {
        "id": "XdG2b7oB_30x",
        "colab_type": "code",
        "colab": {
          "base_uri": "https://localhost:8080/",
          "height": 34
        },
        "outputId": "ad260f9e-d298-47f8-fe05-9e44fa42de82"
      },
      "source": [
        "import torch\n",
        "import torch.nn as nn\n",
        "import torch.nn.functional as F\n",
        "import torch.optim as optim\n",
        "\n",
        "torch.manual_seed(1)"
      ],
      "execution_count": 3,
      "outputs": [
        {
          "output_type": "execute_result",
          "data": {
            "text/plain": [
              "<torch._C.Generator at 0x7f0eeae01e90>"
            ]
          },
          "metadata": {
            "tags": []
          },
          "execution_count": 3
        }
      ]
    },
    {
      "cell_type": "code",
      "metadata": {
        "id": "g15Y19t0AJJS",
        "colab_type": "code",
        "colab": {}
      },
      "source": [
        "word_to_ix = {\"hello\":0, \"world\":1}\n",
        "embeds = nn.Embedding(2,5)  #2 words in vocab, 5 dimensional embedding\n",
        "lookup_tensor = torch.tensor([word_to_ix[\"hello\"]], dtype=torch.long)"
      ],
      "execution_count": 0,
      "outputs": []
    },
    {
      "cell_type": "code",
      "metadata": {
        "id": "zsO9WkqNBB2h",
        "colab_type": "code",
        "colab": {
          "base_uri": "https://localhost:8080/",
          "height": 51
        },
        "outputId": "d89b87c0-a71a-4fc3-92dd-7aab54002d02"
      },
      "source": [
        "embeds(lookup_tensor)"
      ],
      "execution_count": 20,
      "outputs": [
        {
          "output_type": "execute_result",
          "data": {
            "text/plain": [
              "tensor([[-0.9081,  0.5423,  0.1103, -2.2590,  0.6067]],\n",
              "       grad_fn=<EmbeddingBackward>)"
            ]
          },
          "metadata": {
            "tags": []
          },
          "execution_count": 20
        }
      ]
    },
    {
      "cell_type": "code",
      "metadata": {
        "id": "38FLd4FMBC3k",
        "colab_type": "code",
        "colab": {}
      },
      "source": [
        "CONTEXT_SIZE = 2\n",
        "EMBEDDING_DIM = 10\n",
        "# We will use Shakespeare Sonnet 2\n",
        "test_sentence = \"\"\"When forty winters shall besiege thy brow,\n",
        "And dig deep trenches in thy beauty's field,\n",
        "Thy youth's proud livery so gazed on now,\n",
        "Will be a totter'd weed of small worth held:\n",
        "Then being asked, where all thy beauty lies,\n",
        "Where all the treasure of thy lusty days;\n",
        "To say, within thine own deep sunken eyes,\n",
        "Were an all-eating shame, and thriftless praise.\n",
        "How much more praise deserv'd thy beauty's use,\n",
        "If thou couldst answer 'This fair child of mine\n",
        "Shall sum my count, and make my old excuse,'\n",
        "Proving his beauty by succession thine!\n",
        "This were to be new made when thou art old,\n",
        "And see thy blood warm when thou feel'st it cold.\"\"\".split()"
      ],
      "execution_count": 0,
      "outputs": []
    },
    {
      "cell_type": "code",
      "metadata": {
        "id": "McJyjzTLC3H-",
        "colab_type": "code",
        "colab": {}
      },
      "source": [
        "trigram = [([test_sentence[i], test_sentence[i+1]], test_sentence[i+2]) for i in range(len(test_sentence)-2)]"
      ],
      "execution_count": 0,
      "outputs": []
    },
    {
      "cell_type": "code",
      "metadata": {
        "id": "nelA_lhIDFU9",
        "colab_type": "code",
        "colab": {}
      },
      "source": [
        "vocab = set(test_sentence)\n",
        "vocab = sorted(vocab)"
      ],
      "execution_count": 0,
      "outputs": []
    },
    {
      "cell_type": "code",
      "metadata": {
        "id": "6mnU10LDDr_b",
        "colab_type": "code",
        "colab": {}
      },
      "source": [
        "word_to_ix = {w : i for i,w in enumerate(sorted(vocab))}"
      ],
      "execution_count": 0,
      "outputs": []
    },
    {
      "cell_type": "code",
      "metadata": {
        "id": "RRp_1STtFNIn",
        "colab_type": "code",
        "colab": {}
      },
      "source": [
        "class ngramlangmodel(nn.Module):\n",
        "  \n",
        "  def __init__(self,vocab_size,embed_size, context_size):\n",
        "    super(ngramlangmodel,self).__init__()\n",
        "    self.embedding = nn.Embedding(vocab_size,embed_size)\n",
        "    self.linear1 = nn.Linear(context_size*embed_size, 128)\n",
        "    self.linear2 = nn.Linear(128, vocab_size)\n",
        "  \n",
        "  def forward(self,inputs):\n",
        "    embeds = self.embedding(inputs).view(1,-1)\n",
        "    out = self.linear1(embeds)\n",
        "    out = F.relu(out)\n",
        "    out = self.linear2(out)\n",
        "    log_probs = F.log_softmax(out,dim=1)\n",
        "    \n",
        "    return log_probs\n",
        "  \n",
        "losses = []\n",
        "lossfn = nn.NLLLoss()\n",
        "model = ngramlangmodel(len(vocab),EMBEDDING_DIM,CONTEXT_SIZE)\n",
        "optimizer = optim.SGD(model.parameters(), lr=0.001)\n",
        "    "
      ],
      "execution_count": 0,
      "outputs": []
    },
    {
      "cell_type": "code",
      "metadata": {
        "id": "8IuqOJSDLgpE",
        "colab_type": "code",
        "colab": {
          "base_uri": "https://localhost:8080/",
          "height": 187
        },
        "outputId": "cbdc233d-06d3-4b3d-89b1-0ac5762daba2"
      },
      "source": [
        "for epoch in range(10):\n",
        "  total_loss = 0\n",
        "  for context, target in trigram:\n",
        "    # Step 1. Prepare the inputs to be passed to the model (i.e, turn the words into integer indices and wrap them in tensors)\n",
        "    cont2indx = torch.tensor([word_to_ix[w] for w in context], dtype = torch.long)\n",
        "    targetind = torch.tensor([word_to_ix[target]],dtype = torch.long)\n",
        "    \n",
        "    # Step 2. Recall that torch *accumulates* gradients. Before passing in a new instance, you need to zero out the gradients from the old instance\n",
        "    model.zero_grad()\n",
        "    \n",
        "    # Step 3. Run the forward pass, getting log probabilities over next words\n",
        "    logprobs = model(cont2indx)\n",
        "    \n",
        "    # Step 4. Compute your loss function. (Again, Torch wants the target word wrapped in a tensor)\n",
        "    loss = lossfn(logprobs,targetind)\n",
        "    \n",
        "    # Step 5. Do the backward pass and update the gradient    \n",
        "    loss.backward()\n",
        "    optimizer.step()\n",
        "    \n",
        "    total_loss += loss.item()\n",
        "    \n",
        "  losses.append(total_loss)\n",
        "  print(\"Loss\" , epoch, total_loss)\n",
        "  \n",
        "  \n",
        "  \n",
        "    \n",
        "    "
      ],
      "execution_count": 71,
      "outputs": [
        {
          "output_type": "stream",
          "text": [
            "Loss 0 23.919101238250732\n",
            "Loss 1 23.743408679962158\n",
            "Loss 2 23.570165157318115\n",
            "Loss 3 23.399426460266113\n",
            "Loss 4 23.23105001449585\n",
            "Loss 5 23.06493330001831\n",
            "Loss 6 22.900967597961426\n",
            "Loss 7 22.739248752593994\n",
            "Loss 8 22.57994794845581\n",
            "Loss 9 22.422611713409424\n"
          ],
          "name": "stdout"
        }
      ]
    },
    {
      "cell_type": "markdown",
      "metadata": {
        "id": "1AVSe78-RgSM",
        "colab_type": "text"
      },
      "source": [
        "# **Continuous Bag of Words**\n"
      ]
    },
    {
      "cell_type": "code",
      "metadata": {
        "id": "gnn_0HIjRqUf",
        "colab_type": "code",
        "colab": {}
      },
      "source": [
        "CONTEXT_SIZE = 2  # 2 words to the left, 2 to the right\n",
        "raw_text = \"\"\"We are about to study the idea of a computational process.\n",
        "Computational processes are abstract beings that inhabit computers.\n",
        "As they evolve, processes manipulate other abstract things called data.\n",
        "The evolution of a process is directed by a pattern of rules\n",
        "called a program. People create programs to direct processes. In effect,\n",
        "we conjure the spirits of the computer with our spells.\"\"\".split()\n"
      ],
      "execution_count": 0,
      "outputs": []
    },
    {
      "cell_type": "code",
      "metadata": {
        "id": "2Ar0KUsQTtfG",
        "colab_type": "code",
        "colab": {}
      },
      "source": [
        "vocab = set(raw_text)\n",
        "vocab = sorted(vocab)\n",
        "lenvocab = len(vocab)\n",
        "word_to_ix = {word: i for i, word in enumerate(vocab)}\n"
      ],
      "execution_count": 0,
      "outputs": []
    },
    {
      "cell_type": "code",
      "metadata": {
        "id": "9w5YeaGKTz0F",
        "colab_type": "code",
        "colab": {}
      },
      "source": [
        "context = [([raw_text[i-2], raw_text[i-1], raw_text[i+1], raw_text[i+2]]) for i in range(2, len(raw_text)-2)]\n",
        "target = [raw_text[i] for i in range(2,len(raw_text)-2)]\n",
        "data = [(context[i],target[i]) for i in range(len(context)) ]"
      ],
      "execution_count": 0,
      "outputs": []
    },
    {
      "cell_type": "code",
      "metadata": {
        "id": "Hp4mLKQDT0zL",
        "colab_type": "code",
        "colab": {}
      },
      "source": [
        "def make_context_vector(context, word_to_ix):\n",
        "    idxs = [word_to_ix[w] for w in context]\n",
        "    return torch.tensor(idxs, dtype=torch.long)"
      ],
      "execution_count": 0,
      "outputs": []
    },
    {
      "cell_type": "code",
      "metadata": {
        "id": "fvhquUmXUo9g",
        "colab_type": "code",
        "colab": {
          "base_uri": "https://localhost:8080/",
          "height": 34
        },
        "outputId": "d286124e-98c7-4c9a-f243-9c088f6747a8"
      },
      "source": [
        "make_context_vector(context[1], word_to_ix)"
      ],
      "execution_count": 105,
      "outputs": [
        {
          "output_type": "execute_result",
          "data": {
            "text/plain": [
              "tensor([ 9,  7, 41, 43])"
            ]
          },
          "metadata": {
            "tags": []
          },
          "execution_count": 105
        }
      ]
    },
    {
      "cell_type": "code",
      "metadata": {
        "id": "BEmhdf84VIep",
        "colab_type": "code",
        "colab": {
          "base_uri": "https://localhost:8080/",
          "height": 1000
        },
        "outputId": "71d3f499-2d97-4ce1-c4e9-11490bb5083a"
      },
      "source": [
        ""
      ],
      "execution_count": 98,
      "outputs": [
        {
          "output_type": "execute_result",
          "data": {
            "text/plain": [
              "[(['We', 'are', 'to', 'study'], 'about'),\n",
              " (['are', 'about', 'study', 'the'], 'to'),\n",
              " (['about', 'to', 'the', 'idea'], 'study'),\n",
              " (['to', 'study', 'idea', 'of'], 'the'),\n",
              " (['study', 'the', 'of', 'a'], 'idea'),\n",
              " (['the', 'idea', 'a', 'computational'], 'of'),\n",
              " (['idea', 'of', 'computational', 'process.'], 'a'),\n",
              " (['of', 'a', 'process.', 'Computational'], 'computational'),\n",
              " (['a', 'computational', 'Computational', 'processes'], 'process.'),\n",
              " (['computational', 'process.', 'processes', 'are'], 'Computational'),\n",
              " (['process.', 'Computational', 'are', 'abstract'], 'processes'),\n",
              " (['Computational', 'processes', 'abstract', 'beings'], 'are'),\n",
              " (['processes', 'are', 'beings', 'that'], 'abstract'),\n",
              " (['are', 'abstract', 'that', 'inhabit'], 'beings'),\n",
              " (['abstract', 'beings', 'inhabit', 'computers.'], 'that'),\n",
              " (['beings', 'that', 'computers.', 'As'], 'inhabit'),\n",
              " (['that', 'inhabit', 'As', 'they'], 'computers.'),\n",
              " (['inhabit', 'computers.', 'they', 'evolve,'], 'As'),\n",
              " (['computers.', 'As', 'evolve,', 'processes'], 'they'),\n",
              " (['As', 'they', 'processes', 'manipulate'], 'evolve,'),\n",
              " (['they', 'evolve,', 'manipulate', 'other'], 'processes'),\n",
              " (['evolve,', 'processes', 'other', 'abstract'], 'manipulate'),\n",
              " (['processes', 'manipulate', 'abstract', 'things'], 'other'),\n",
              " (['manipulate', 'other', 'things', 'called'], 'abstract'),\n",
              " (['other', 'abstract', 'called', 'data.'], 'things'),\n",
              " (['abstract', 'things', 'data.', 'The'], 'called'),\n",
              " (['things', 'called', 'The', 'evolution'], 'data.'),\n",
              " (['called', 'data.', 'evolution', 'of'], 'The'),\n",
              " (['data.', 'The', 'of', 'a'], 'evolution'),\n",
              " (['The', 'evolution', 'a', 'process'], 'of'),\n",
              " (['evolution', 'of', 'process', 'is'], 'a'),\n",
              " (['of', 'a', 'is', 'directed'], 'process'),\n",
              " (['a', 'process', 'directed', 'by'], 'is'),\n",
              " (['process', 'is', 'by', 'a'], 'directed'),\n",
              " (['is', 'directed', 'a', 'pattern'], 'by'),\n",
              " (['directed', 'by', 'pattern', 'of'], 'a'),\n",
              " (['by', 'a', 'of', 'rules'], 'pattern'),\n",
              " (['a', 'pattern', 'rules', 'called'], 'of'),\n",
              " (['pattern', 'of', 'called', 'a'], 'rules'),\n",
              " (['of', 'rules', 'a', 'program.'], 'called'),\n",
              " (['rules', 'called', 'program.', 'People'], 'a'),\n",
              " (['called', 'a', 'People', 'create'], 'program.'),\n",
              " (['a', 'program.', 'create', 'programs'], 'People'),\n",
              " (['program.', 'People', 'programs', 'to'], 'create'),\n",
              " (['People', 'create', 'to', 'direct'], 'programs'),\n",
              " (['create', 'programs', 'direct', 'processes.'], 'to'),\n",
              " (['programs', 'to', 'processes.', 'In'], 'direct'),\n",
              " (['to', 'direct', 'In', 'effect,'], 'processes.'),\n",
              " (['direct', 'processes.', 'effect,', 'we'], 'In'),\n",
              " (['processes.', 'In', 'we', 'conjure'], 'effect,'),\n",
              " (['In', 'effect,', 'conjure', 'the'], 'we'),\n",
              " (['effect,', 'we', 'the', 'spirits'], 'conjure'),\n",
              " (['we', 'conjure', 'spirits', 'of'], 'the'),\n",
              " (['conjure', 'the', 'of', 'the'], 'spirits'),\n",
              " (['the', 'spirits', 'the', 'computer'], 'of'),\n",
              " (['spirits', 'of', 'computer', 'with'], 'the'),\n",
              " (['of', 'the', 'with', 'our'], 'computer'),\n",
              " (['the', 'computer', 'our', 'spells.'], 'with')]"
            ]
          },
          "metadata": {
            "tags": []
          },
          "execution_count": 98
        }
      ]
    },
    {
      "cell_type": "code",
      "metadata": {
        "id": "ngHon3NXVmpJ",
        "colab_type": "code",
        "colab": {}
      },
      "source": [
        ""
      ],
      "execution_count": 0,
      "outputs": []
    }
  ]
}